{
 "cells": [
  {
   "cell_type": "code",
   "execution_count": 1,
   "metadata": {},
   "outputs": [],
   "source": [
    "# パッケージのimport\n",
    "import numpy as np\n",
    "import random\n",
    "\n",
    "import torch\n",
    "import torch.nn as nn\n",
    "import torch.optim as optim"
   ]
  },
  {
   "cell_type": "code",
   "execution_count": 3,
   "metadata": {},
   "outputs": [],
   "source": [
    "torch.manual_seed(12)\n",
    "np.random.seed(12)"
   ]
  },
  {
   "cell_type": "code",
   "execution_count": 4,
   "metadata": {},
   "outputs": [
    {
     "data": {
      "text/plain": [
       "'\\n埋め込み層\\nposition encoding\\ndropout\\n\\n###1Hopping###\\nLayer Normalization\\nself_attention\\ndropout\\nLayer Normalization\\nFFN\\ndropout\\n\\nLayer Normalization\\nself_attention\\ndropout\\nLayer Normalization\\nFFN\\ndropout\\n############\\n\\n\\n'"
      ]
     },
     "execution_count": 4,
     "metadata": {},
     "output_type": "execute_result"
    }
   ],
   "source": [
    "\"\"\"\n",
    "埋め込み層\n",
    "position encoding\n",
    "dropout\n",
    "\n",
    "###1Hopping###\n",
    "Layer Normalization\n",
    "self_attention\n",
    "dropout\n",
    "Layer Normalization\n",
    "FFN\n",
    "dropout\n",
    "\n",
    "Layer Normalization\n",
    "self_attention\n",
    "dropout\n",
    "Layer Normalization\n",
    "FFN\n",
    "dropout\n",
    "############\n",
    "\n",
    "\n",
    "\"\"\""
   ]
  },
  {
   "cell_type": "code",
   "execution_count": 2,
   "metadata": {},
   "outputs": [],
   "source": [
    "#埋め込み層\n",
    "class Embedder(nn.Module):\n",
    "    def __init__(self, text_embedding_vectors):\n",
    "        super(Embedder, self).__init__()\n",
    "        \n",
    "        #更新はしない\n",
    "        self.embeddings = nn.Embedding.from_pretrained(\n",
    "            embeddings=text_embedding_vectors, freeze=True)\n",
    "\n",
    "    def forward(self, x):\n",
    "        x_vec = self.embeddings(x)\n",
    "\n",
    "        return x_vec"
   ]
  },
  {
   "cell_type": "code",
   "execution_count": 5,
   "metadata": {},
   "outputs": [],
   "source": [
    "#PositonalEncoding\n",
    "class PositionalEncoder(nn.Module):\n",
    "\n",
    "    def __init__(self, d_model=300, max_seq_len=140):\n",
    "        super().__init__()\n",
    "\n",
    "        self.d_model = d_model\n",
    "\n",
    "        pe = torch.zeros(max_seq_len, d_model)\n",
    "\n",
    "        # GPUが使える場合はGPUへ送る、ここでは省略。実際に学習時には使用する\n",
    "        # device = torch.device(\"cuda:0\" if torch.cuda.is_available() else \"cpu\")\n",
    "        # pe = pe.to(device)\n",
    "\n",
    "        for pos in range(max_seq_len):\n",
    "            for i in range(0, d_model, 2):\n",
    "                pe[pos, i] = math.sin(pos / (10000 ** ((2 * i)/d_model)))\n",
    "                pe[pos, i + 1] = math.cos(pos /\n",
    "                                          (10000 ** ((2 * (i + 1))/d_model)))\n",
    "\n",
    "        self.pe = pe.unsqueeze(0)\n",
    "\n",
    "        self.pe.requires_grad = False\n",
    "\n",
    "    def forward(self, x):\n",
    "        ret = math.sqrt(self.d_model)*x + self.pe\n",
    "        return ret\n"
   ]
  },
  {
   "cell_type": "code",
   "execution_count": 8,
   "metadata": {},
   "outputs": [
    {
     "ename": "SyntaxError",
     "evalue": "non-default argument follows default argument (<ipython-input-8-52b0100f3fe3>, line 2)",
     "output_type": "error",
     "traceback": [
      "\u001b[0;36m  File \u001b[0;32m\"<ipython-input-8-52b0100f3fe3>\"\u001b[0;36m, line \u001b[0;32m2\u001b[0m\n\u001b[0;31m    def __init__(self, d_model=300, head_num, dropout_rate):\u001b[0m\n\u001b[0m                ^\u001b[0m\n\u001b[0;31mSyntaxError\u001b[0m\u001b[0;31m:\u001b[0m non-default argument follows default argument\n"
     ]
    }
   ],
   "source": [
    "class MultiheadAttention(nn.Module):\n",
    "    def __init__(self, d_model=300, head_num, dropout_rate):\n",
    "        super().__init__()\n",
    "        \"\"\"\n",
    "        d_model：出力層の次元(head_bumの倍数)\n",
    "        head_num：ヘッドの数\n",
    "        dropout_rate\n",
    "        \"\"\"\n",
    "        self.d_model = d_model\n",
    "        self.head_num = head_num\n",
    "        self.dropout_rate = dropout_rate\n",
    "    \n",
    "        #特徴量変換\n",
    "        self.q_linear = nn.Linear(d_model, d_model) \n",
    "        self.v_linear = nn.Linear(d_model, d_model)\n",
    "        self.k_linear = nn.Linear(d_model, d_model)\n",
    "        #出力の全結合層\n",
    "        self.out = nn.Linear(d_model, d_model)\n",
    "        self.attention_dropout_layer = nn.Dropout(dropout_rate)   \n",
    "    \n",
    "    def forward(self, q, k, v, mask):\n",
    "        #key, query, valueを生成\n",
    "        q = self.q_linear(q)\n",
    "        k = self.q_linear(k)\n",
    "        v = self.q_linear(v)\n",
    "        \n",
    "        #head_numに分割\n",
    "        q = self._split_head(q)\n",
    "        k = self._split_head(k)\n",
    "        v = self._split_head(v)\n",
    "        \n",
    "        #queryとkeyの関連度の計算と、Scaled Dot-production\n",
    "        weights = torch.matmul(q, k.transpose(1, 2)) / math.sqrt(self.d_model)\n",
    "        \n",
    "        #maskをかける\n",
    "        mask = mask.unsqueeze(1)\n",
    "        weights = weights.masked_fill(mask==0, -1e9)\n",
    "        \n",
    "        #AttentionWeightを計算\n",
    "        attention_weight = F.softmax(weights, dim=-1)\n",
    "        \n",
    "        #AttentionWeightよりvalueから情報を引き出す\n",
    "        attention_output = torch.matmul(attention_weight, v)\n",
    "        attention_output = self._combine_head(attention_output)\n",
    "        output = self.out(output)\n",
    "        \n",
    "    def _split_head(self, x):\n",
    "        \"\"\"\n",
    "        x.size:[batch_size, length, hidden_dim]\n",
    "        \"\"\"\n",
    "        batch_size, length, hidden_dim = x.size()\n",
    "        x = x.view(batch_size, length, self.head_num, self.hidden_dim//self.head_num) #reshape\n",
    "        return x.permute(0, 2, 1, 3)\n",
    "    \n",
    "    #outputを出力する前に分割したheadを戻す。\n",
    "    def _combine_head(self, x):\n",
    "        \"\"\"\n",
    "        x.size:[batch_size, head_num, length, hidden_dim//head_num]\n",
    "        \"\"\"\n",
    "        batch_size, _, length, _  = x.size()\n",
    "        x = x.permute(0, 2, 1, 3)\n",
    "        return x.view(batch_size, length, self.hidden_dim)"
   ]
  },
  {
   "cell_type": "code",
   "execution_count": null,
   "metadata": {},
   "outputs": [],
   "source": []
  }
 ],
 "metadata": {
  "kernelspec": {
   "display_name": "Python 3",
   "language": "python",
   "name": "python3"
  },
  "language_info": {
   "codemirror_mode": {
    "name": "ipython",
    "version": 3
   },
   "file_extension": ".py",
   "mimetype": "text/x-python",
   "name": "python",
   "nbconvert_exporter": "python",
   "pygments_lexer": "ipython3",
   "version": "3.7.3"
  }
 },
 "nbformat": 4,
 "nbformat_minor": 2
}
